{
 "cells": [
  {
   "cell_type": "code",
   "execution_count": 1,
   "id": "connected-dollar",
   "metadata": {},
   "outputs": [
    {
     "ename": "ModuleNotFoundError",
     "evalue": "No module named 'matplotlib'",
     "output_type": "error",
     "traceback": [
      "\u001b[0;31m---------------------------------------------------------------------------\u001b[0m",
      "\u001b[0;31mModuleNotFoundError\u001b[0m                       Traceback (most recent call last)",
      "\u001b[0;32m<ipython-input-1-e7ed55cc637c>\u001b[0m in \u001b[0;36m<module>\u001b[0;34m\u001b[0m\n\u001b[1;32m      2\u001b[0m \u001b[0;31m# coding: utf-8\u001b[0m\u001b[0;34m\u001b[0m\u001b[0;34m\u001b[0m\u001b[0;34m\u001b[0m\u001b[0m\n\u001b[1;32m      3\u001b[0m \u001b[0;34m\u001b[0m\u001b[0m\n\u001b[0;32m----> 4\u001b[0;31m \u001b[0;32mimport\u001b[0m \u001b[0mmatplotlib\u001b[0m \u001b[0;32mas\u001b[0m \u001b[0mmpl\u001b[0m\u001b[0;34m\u001b[0m\u001b[0;34m\u001b[0m\u001b[0m\n\u001b[0m\u001b[1;32m      5\u001b[0m \u001b[0mmpl\u001b[0m\u001b[0;34m.\u001b[0m\u001b[0muse\u001b[0m\u001b[0;34m(\u001b[0m\u001b[0;34m'Agg'\u001b[0m\u001b[0;34m)\u001b[0m\u001b[0;34m\u001b[0m\u001b[0;34m\u001b[0m\u001b[0m\n\u001b[1;32m      6\u001b[0m \u001b[0;32mimport\u001b[0m \u001b[0mmatplotlib\u001b[0m\u001b[0;34m.\u001b[0m\u001b[0mpyplot\u001b[0m \u001b[0;32mas\u001b[0m \u001b[0mplt\u001b[0m\u001b[0;34m\u001b[0m\u001b[0;34m\u001b[0m\u001b[0m\n",
      "\u001b[0;31mModuleNotFoundError\u001b[0m: No module named 'matplotlib'"
     ]
    }
   ],
   "source": [
    "#!/usr/bin/env python\n",
    "# coding: utf-8\n",
    " \n",
    "import matplotlib as mpl\n",
    "mpl.use('Agg')\n",
    "import matplotlib.pyplot as plt\n",
    "import numpy as np\n",
    " \n",
    "# 必须配置中文字体，否则会显示成方块\n",
    "# 注意所有希望图表显示的中文必须为unicode格式\n",
    "custom_font = mpl.font_manager.FontProperties(fname='/Library/Fonts/华文细黑.ttf')\n",
    " \n",
    "font_size = 10 # 字体大小\n",
    "fig_size = (8, 6) # 图表大小\n",
    " \n",
    "names = (u'小明', u'小红') # 姓名\n",
    "subjects = (u'语文', u'数学', u'英语') # 科目\n",
    "scores = ((65, 90, 75), (85, 80, 90)) # 成绩\n",
    " \n",
    "# 更新字体大小\n",
    "mpl.rcParams['font.size'] = font_size\n",
    "# 更新图表大小\n",
    "mpl.rcParams['figure.figsize'] = fig_size\n",
    "# 设置柱形图宽度\n",
    "bar_width = 0.35\n",
    " \n",
    "index = np.arange(len(scores[0]))\n",
    "# 绘制「小明」的成绩\n",
    "rects1 = plt.bar(index, scores[0], bar_width, color='#0072BC', label=names[0])\n",
    "# 绘制「小红」的成绩\n",
    "rects2 = plt.bar(index + bar_width, scores[1], bar_width, color='#ED1C24', label=names[1])\n",
    "# X轴标题\n",
    "plt.xticks(index + bar_width, subjects, fontproperties=custom_font)\n",
    "# Y轴范围\n",
    "plt.ylim(ymax=100, ymin=0)\n",
    "# 图表标题\n",
    "plt.title(u'企鹅班同学成绩对比', fontproperties=custom_font)\n",
    "# 图例显示在图表下方\n",
    "plt.legend(loc='upper center', bbox_to_anchor=(0.5, -0.03), fancybox=True, ncol=5, prop=custom_font)\n",
    " \n",
    "# 添加数据标签\n",
    "def add_labels(rects):\n",
    "  for rect in rects:\n",
    "    height = rect.get_height()\n",
    "    plt.text(rect.get_x() + rect.get_width() / 2, height, height, ha='center', va='bottom')\n",
    "    # 柱形图边缘用白色填充，纯粹为了美观\n",
    "    rect.set_edgecolor('white')\n",
    " \n",
    "add_labels(rects1)\n",
    "add_labels(rects2)\n",
    " \n",
    "# 图表输出到本地\n",
    "plt.savefig('scores_par.png')"
   ]
  },
  {
   "cell_type": "code",
   "execution_count": null,
   "id": "electric-determination",
   "metadata": {},
   "outputs": [],
   "source": []
  }
 ],
 "metadata": {
  "kernelspec": {
   "display_name": "Python 3",
   "language": "python",
   "name": "python3"
  },
  "language_info": {
   "codemirror_mode": {
    "name": "ipython",
    "version": 3
   },
   "file_extension": ".py",
   "mimetype": "text/x-python",
   "name": "python",
   "nbconvert_exporter": "python",
   "pygments_lexer": "ipython3",
   "version": "3.9.2"
  }
 },
 "nbformat": 4,
 "nbformat_minor": 5
}
